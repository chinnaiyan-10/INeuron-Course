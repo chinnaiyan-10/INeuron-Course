{
 "cells": [
  {
   "cell_type": "code",
   "execution_count": 6,
   "metadata": {},
   "outputs": [
    {
     "name": "stdout",
     "output_type": "stream",
     "text": [
      "\"Hello Python\"\n"
     ]
    }
   ],
   "source": [
    "#1.\tWrite a Python program to print \"Hello Python\"?\n",
    "#Answer\n",
    "print('\"Hello Python\"')"
   ]
  },
  {
   "cell_type": "code",
   "execution_count": 7,
   "metadata": {},
   "outputs": [
    {
     "name": "stdout",
     "output_type": "stream",
     "text": [
      "Addition: 50\n",
      "Division: 0.6666666666666666\n"
     ]
    }
   ],
   "source": [
    "#2.\tWrite a Python program to do arithmetical operations addition and division.?\n",
    "#Answer\n",
    "num1=20\n",
    "num2=30\n",
    "#Addition\n",
    "num3=num1+num2\n",
    "#Division\n",
    "num4=num1/num2\n",
    "print(\"Addition:\",num3)\n",
    "print(\"Division:\",num4)"
   ]
  },
  {
   "cell_type": "code",
   "execution_count": 1,
   "metadata": {},
   "outputs": [
    {
     "name": "stdout",
     "output_type": "stream",
     "text": [
      "Enter the base in cm:30\n",
      "Enter the height in cm:40\n",
      "Area of the triangle is 600.0sq.cm\n"
     ]
    }
   ],
   "source": [
    "#Write a Python program to find the area of a triangle?\n",
    "#Answer\n",
    "base=float(input(\"Enter the base in cm:\"))\n",
    "height=float(input(\"Enter the height in cm:\"))\n",
    "area=(0.5*base*height)\n",
    "print(\"Area of the triangle is {}{}\".format(area,\"sq.cm\"))"
   ]
  },
  {
   "cell_type": "code",
   "execution_count": 2,
   "metadata": {},
   "outputs": [
    {
     "name": "stdout",
     "output_type": "stream",
     "text": [
      "Enter the 1st number:40\n",
      "Enter the 2nd number:-45\n",
      "<class 'int'>\n",
      "-3 4\n"
     ]
    }
   ],
   "source": [
    "#Write a Python program to swap two variables?\n",
    "first_num=int(input(\"Enter the 1st number:\")) //10\n",
    "sec_num=int(input(\"Enter the 2nd number:\")) //20\n",
    "first_num=first_num+sec_num\n",
    "print(type(first_num))\n",
    "sec_num=first_num-sec_num\n",
    "first_num=first_num-sec_num\n",
    "print(first_num,sec_num)\n",
    "#Is there anything wrong with this code??"
   ]
  },
  {
   "cell_type": "code",
   "execution_count": 3,
   "metadata": {},
   "outputs": [
    {
     "name": "stdout",
     "output_type": "stream",
     "text": [
      "-90 30\n"
     ]
    }
   ],
   "source": [
    "#Write a Python program to swap two variables?\n",
    "first_num=30\n",
    "sec_num=-90\n",
    "temp=0\n",
    "#first_num=first_num+sec_num\n",
    "#print(type(first_num))\n",
    "#sec_num=first_num-sec_num\n",
    "#first_num=first_num-sec_num\n",
    "#print(first_num,sec_num)\n",
    "temp=sec_num\n",
    "sec_num=first_num\n",
    "first_num=temp\n",
    "print(first_num,sec_num)"
   ]
  },
  {
   "cell_type": "code",
   "execution_count": 4,
   "metadata": {},
   "outputs": [
    {
     "name": "stdout",
     "output_type": "stream",
     "text": [
      "6\n"
     ]
    }
   ],
   "source": [
    "#Write a Python program to generate a random number?\n",
    "from random import *\n",
    "a=randint(0,10)\n",
    "print(a)"
   ]
  },
  {
   "cell_type": "code",
   "execution_count": null,
   "metadata": {},
   "outputs": [],
   "source": []
  }
 ],
 "metadata": {
  "kernelspec": {
   "display_name": "Python 3",
   "language": "python",
   "name": "python3"
  },
  "language_info": {
   "codemirror_mode": {
    "name": "ipython",
    "version": 3
   },
   "file_extension": ".py",
   "mimetype": "text/x-python",
   "name": "python",
   "nbconvert_exporter": "python",
   "pygments_lexer": "ipython3",
   "version": "3.8.5"
  }
 },
 "nbformat": 4,
 "nbformat_minor": 4
}
