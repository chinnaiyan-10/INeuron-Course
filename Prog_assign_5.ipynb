{
 "cells": [
  {
   "cell_type": "code",
   "execution_count": 26,
   "metadata": {},
   "outputs": [
    {
     "name": "stdout",
     "output_type": "stream",
     "text": [
      "Enter the 1st number:60\n",
      "Enter the 2nd number:90\n",
      "The LCM is: 60.0\n"
     ]
    }
   ],
   "source": [
    "#1.\tWrite a Python Program to Find LCM?\n",
    "var_num1=int(input(\"Enter the 1st number:\"))\n",
    "var_num2=int(input(\"Enter the 2nd number:\"))\n",
    "gcd=1\n",
    "res_n3=find_factors(var_num1,2)\n",
    "res_n4=find_factors(var_num2,2)\n",
    "result2=find_gcd(res_n1,res_n2)\n",
    "#print(\"The HCF is {}\".format(gcd))\n",
    "lcm=(var_num1*var_num2)/result2\n",
    "print(\"The LCM is:\",lcm)"
   ]
  },
  {
   "cell_type": "code",
   "execution_count": 25,
   "metadata": {},
   "outputs": [
    {
     "name": "stdout",
     "output_type": "stream",
     "text": [
      "Enter the 1st number:60\n",
      "Enter the 2nd number:90\n",
      "The HCF is 90\n"
     ]
    }
   ],
   "source": [
    "#2.\tWrite a Python Program to Find HCF?\n",
    "var_num3=int(input(\"Enter the 1st number:\"))\n",
    "var_num4=int(input(\"Enter the 2nd number:\"))\n",
    "#function to find prime factors#\n",
    "def find_factors(num,var_iter):\n",
    "    nl=[]\n",
    "    while(num>1):\n",
    "        if num%var_iter==0:\n",
    "            nl.append(var_iter)\n",
    "            num=num/var_iter\n",
    "        else:\n",
    "            var_iter+=1\n",
    "    return(nl)\n",
    "res_n1=find_factors(var_num3,2)\n",
    "res_n2=find_factors(var_num4,2)\n",
    "#Finding the largest b/w both number\n",
    "def find_gcd(res_n1,res_n2):\n",
    "    gcd=1\n",
    "    if len(res_n1)>=len(res_n2):\n",
    "        c=res_n1\n",
    "        d=res_n2\n",
    "    elif len(res_n1)<len(res_n2):\n",
    "        c=res_n1\n",
    "        d=res_n2\n",
    "    #iterate thro large arrray with elements from small array\n",
    "    for item in d:\n",
    "        if item in c:\n",
    "            gcd=gcd*item\n",
    "    return gcd\n",
    "result=find_gcd(res_n1,res_n2)\n",
    "print(\"The HCF is {}\".format(result))"
   ]
  },
  {
   "cell_type": "code",
   "execution_count": 4,
   "metadata": {},
   "outputs": [
    {
     "name": "stdout",
     "output_type": "stream",
     "text": [
      "Number:566\n",
      "The binary form of 566 is 1000110110\n",
      "The octal form of 566 is 1066\n",
      "The Hexa-decimal form of 566 is 0x236\n"
     ]
    }
   ],
   "source": [
    "#3.\tWrite a Python Program to Convert Decimal to Binary, Octal and Hexadecimal?\n",
    "num=int(input(\"Number:\"))\n",
    "bin_num=oct_num=hex_num=num\n",
    "nl=''\n",
    "nl2=''\n",
    "nl4=''\n",
    "###Decimal to binary conversion###\n",
    "while(bin_num>=1):\n",
    "    nl=nl+str(bin_num%2)\n",
    "    bin_num=bin_num//2\n",
    "nl1=int(nl[-1::-1])\n",
    "print(\"The binary form of {} is {}\".format(num,nl1))\n",
    "\n",
    "###Decimal to Octal conversion###\n",
    "while(oct_num>=1):\n",
    "    nl2=nl2+str(oct_num%8)\n",
    "    oct_num=oct_num//8\n",
    "nl3=int(nl2[-1::-1])\n",
    "print(\"The octal form of {} is {}\".format(num,nl3))\n",
    "###Decimal to Hexa-Decimal conversion###\n",
    "print(\"The Hexa-decimal form of {} is {}\".format(num,hex(num)))"
   ]
  },
  {
   "cell_type": "code",
   "execution_count": 14,
   "metadata": {},
   "outputs": [
    {
     "name": "stdout",
     "output_type": "stream",
     "text": [
      "Enter the chracter: A\n",
      "The ASCII value of the charaacter is 65\n"
     ]
    }
   ],
   "source": [
    "#4.\tWrite a Python Program To Find ASCII value of a character?\n",
    "var_char=input(\"Enter the chracter: \")\n",
    "print(\"The ASCII value of the charaacter is {}\".format(ord(var_char)))"
   ]
  },
  {
   "cell_type": "code",
   "execution_count": 9,
   "metadata": {},
   "outputs": [
    {
     "name": "stdout",
     "output_type": "stream",
     "text": [
      "Enter 1st number:200\n",
      "Enter 2nd number:30\n",
      "Choose operation:div\n",
      "The result of divide is: 6.666666666666667\n"
     ]
    }
   ],
   "source": [
    "#5.\tWrite a Python Program to Make a Simple Calculator with 4 basic mathematical operations?\n",
    "num1=int(input(\"Enter 1st number:\"))\n",
    "num2=int(input(\"Enter 2nd number:\"))\n",
    "choice=input(\"Choose operation:\")\n",
    "def integer_add(num1,num2):\n",
    "    return num1+num2\n",
    "def integer_sub(num1,num2):\n",
    "    return num1-num2\n",
    "def integer_mul(num1,num2):\n",
    "    return num1*num2\n",
    "def integer_div(num1,num2):\n",
    "    return num1/num2\n",
    "if choice==\"add\":\n",
    "    result=integer_add(num1,num2)\n",
    "    print(\"The result of addition is:\",result)\n",
    "elif choice==\"sub\":\n",
    "    result=integer_sub(num1,num2)\n",
    "    print(\"The result of subtraction is:\",result)\n",
    "elif choice==\"mul\":\n",
    "    result=integer_mul(num1,num2)\n",
    "    print(\"The result of multiply is:\",result)\n",
    "elif choice==\"div\":\n",
    "    result=integer_div(num1,num2)\n",
    "    print(\"The result of divide is:\",result)\n",
    "else:\n",
    "    print(\"Input a valid operation\")"
   ]
  }
 ],
 "metadata": {
  "kernelspec": {
   "display_name": "Python 3",
   "language": "python",
   "name": "python3"
  },
  "language_info": {
   "codemirror_mode": {
    "name": "ipython",
    "version": 3
   },
   "file_extension": ".py",
   "mimetype": "text/x-python",
   "name": "python",
   "nbconvert_exporter": "python",
   "pygments_lexer": "ipython3",
   "version": "3.7.4"
  }
 },
 "nbformat": 4,
 "nbformat_minor": 4
}
