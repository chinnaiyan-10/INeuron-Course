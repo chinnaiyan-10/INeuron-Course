{
 "cells": [
  {
   "cell_type": "code",
   "execution_count": 1,
   "metadata": {},
   "outputs": [
    {
     "ename": "SyntaxError",
     "evalue": "invalid syntax (<ipython-input-1-ee5bfa452078>, line 1)",
     "output_type": "error",
     "traceback": [
      "\u001b[1;36m  File \u001b[1;32m\"<ipython-input-1-ee5bfa452078>\"\u001b[1;36m, line \u001b[1;32m1\u001b[0m\n\u001b[1;33m    What exactly is []?\u001b[0m\n\u001b[1;37m         ^\u001b[0m\n\u001b[1;31mSyntaxError\u001b[0m\u001b[1;31m:\u001b[0m invalid syntax\n"
     ]
    }
   ],
   "source": [
    "What exactly is []?\n",
    "Answer:A pair of square brackets [] is used to create a list.It means an empty list in python i.e it has no elements in it."
   ]
  },
  {
   "cell_type": "code",
   "execution_count": null,
   "metadata": {},
   "outputs": [],
   "source": [
    "2. In a list of values stored in a variable called spam, how would you assign the value 'hello' as the third value?\n",
    "(Assume [2, 4, 6, 8, 10] are in spam.)\n",
    "Answer:  spam[2]=\"hello\""
   ]
  },
  {
   "cell_type": "code",
   "execution_count": null,
   "metadata": {},
   "outputs": [],
   "source": [
    "Let's pretend the spam includes the list ['a', 'b', 'c', 'd'] for the next three queries.\n",
    "3. What is the value of spam[int(int('3' * 2) / 11)]?\n",
    "Answer: The value of spam[3] (result form the above expression) is 8."
   ]
  },
  {
   "cell_type": "code",
   "execution_count": null,
   "metadata": {},
   "outputs": [],
   "source": [
    "What is the value of spam[-1]?\n",
    "Answer: Tha value of spam[-1] is ['a','b','c','d']"
   ]
  },
  {
   "cell_type": "code",
   "execution_count": null,
   "metadata": {},
   "outputs": [],
   "source": [
    "5. What is the value of spam[:2]?\n",
    "Answer:The the value of spam[:2] is 2,4"
   ]
  },
  {
   "cell_type": "code",
   "execution_count": null,
   "metadata": {},
   "outputs": [],
   "source": [
    "Let's pretend bacon has the list [3.14, 'cat,' 11, 'cat,' True] for the next three questions.\n",
    "6. What is the value of bacon.index('cat')?\n",
    "Answer:The value is 1."
   ]
  },
  {
   "cell_type": "code",
   "execution_count": null,
   "metadata": {},
   "outputs": [],
   "source": [
    "How does bacon.append(99) change the look of the list value in bacon?\n",
    "Answer:The result after append is [3.14,'cat',11,True,99]"
   ]
  },
  {
   "cell_type": "code",
   "execution_count": null,
   "metadata": {},
   "outputs": [],
   "source": [
    "How does bacon.remove('cat') change the look of the list in bacon?\n",
    "Answer:The result after remove is [3.14,11,True,99]"
   ]
  },
  {
   "cell_type": "code",
   "execution_count": null,
   "metadata": {},
   "outputs": [],
   "source": [
    "What are the list concatenation and list replication operators?\n",
    "Answer:The list concatenation operator is +\n",
    "       The list replication operator is *"
   ]
  },
  {
   "cell_type": "code",
   "execution_count": null,
   "metadata": {},
   "outputs": [],
   "source": [
    "What is difference between the list methods append() and insert()?\n",
    "Answer:The method append() adds an element to the last of the list.\n",
    "       The insert() mehod adds an element at the specified location as in the arguments."
   ]
  },
  {
   "cell_type": "code",
   "execution_count": null,
   "metadata": {},
   "outputs": [],
   "source": [
    "What are the two methods for removing items from a list?\n",
    "Answer:pop(),remove()"
   ]
  },
  {
   "cell_type": "code",
   "execution_count": null,
   "metadata": {},
   "outputs": [],
   "source": [
    "Describe how list values and string values are identical.\n",
    "Answer:The elements in a list can be accessed based on the index positions.(Indexing)\n",
    "       A particular range of elements can be obtained by mentioning the position(Slicing)\n",
    "       Both the above two functionality were supported  by Strings also."
   ]
  },
  {
   "cell_type": "code",
   "execution_count": null,
   "metadata": {},
   "outputs": [],
   "source": [
    "What's the difference between tuples and lists?\n",
    "Answer:A list is defined by [],while a tuple is defined by ().\n",
    "       List is mutable while tuples are immutable.\n",
    "       A list has more supported methods than the tuples. "
   ]
  },
  {
   "cell_type": "code",
   "execution_count": null,
   "metadata": {},
   "outputs": [],
   "source": [
    "How do you type a tuple value that only contains the integer 42?\n",
    "Answer: number_list=(42,0);"
   ]
  },
  {
   "cell_type": "code",
   "execution_count": null,
   "metadata": {},
   "outputs": [],
   "source": [
    "How do you get a list value's tuple form? How do you get a tuple value's list form?\n",
    "Answer:To convert list to a tuple:\n",
    "       tuple(list_name)\n",
    "       TO convert tuple to a list:\n",
    "       list(tuple_name)\n",
    "The type casting can be used for getting list's tuple form and vice versa."
   ]
  },
  {
   "cell_type": "code",
   "execution_count": null,
   "metadata": {},
   "outputs": [],
   "source": [
    "Variables that \"contain\" list values are not necessarily lists themselves. Instead, what do they contain?\n",
    "Answer:The list values can be accomdated inside the other data structures such as tuple,Dictionary."
   ]
  }
 ],
 "metadata": {
  "kernelspec": {
   "display_name": "Python 3",
   "language": "python",
   "name": "python3"
  },
  "language_info": {
   "codemirror_mode": {
    "name": "ipython",
    "version": 3
   },
   "file_extension": ".py",
   "mimetype": "text/x-python",
   "name": "python",
   "nbconvert_exporter": "python",
   "pygments_lexer": "ipython3",
   "version": "3.8.5"
  }
 },
 "nbformat": 4,
 "nbformat_minor": 4
}
