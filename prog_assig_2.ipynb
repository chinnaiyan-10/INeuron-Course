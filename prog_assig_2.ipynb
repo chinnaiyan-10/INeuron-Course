{
 "cells": [
  {
   "cell_type": "code",
   "execution_count": 4,
   "metadata": {},
   "outputs": [
    {
     "name": "stdout",
     "output_type": "stream",
     "text": [
      "Enter the Kms: 233\n",
      "233.0 kms is equal to 144.7668843 miles\n"
     ]
    }
   ],
   "source": [
    "#1.\tWrite a Python program to convert kilometers to miles?\n",
    "var_km=float(input(\"Enter the Kms: \"))\n",
    "var_mp=0.6213171 #conversion-constant\n",
    "var_miles=var_km*var_mp\n",
    "print(\"{} kms is equal to {} miles\".format(var_km,var_miles))"
   ]
  },
  {
   "cell_type": "code",
   "execution_count": 6,
   "metadata": {},
   "outputs": [
    {
     "name": "stdout",
     "output_type": "stream",
     "text": [
      "Enter the temperature in celcius: 40\n",
      "40.0 degree celcius is equal to 104.0 degree farenheit\n"
     ]
    }
   ],
   "source": [
    "#2.\tWrite a Python program to convert Celsius to Fahrenheit?\n",
    "var_celcius=float(input(\"Enter the temperature in celcius: \"))\n",
    "var_fahrenheit=0.0\n",
    "var_calc=var_celcius*(9/5)+32\n",
    "var_fahrenheit=var_calc\n",
    "print(\"{} degree celcius is equal to {} degree farenheit\".format(var_celcius,var_fahrenheit))"
   ]
  },
  {
   "cell_type": "code",
   "execution_count": 15,
   "metadata": {},
   "outputs": [],
   "source": [
    "#3.Write a Python program to display calendar?\n",
    "import calendar\n",
    "year=int(input(\"enter the year to see its calendar:\"))\n",
    "calendar.setfirstweekday(calendar.SUNDAY)\n",
    "print(calendar.prcal(year))"
   ]
  },
  {
   "cell_type": "code",
   "execution_count": 32,
   "metadata": {},
   "outputs": [
    {
     "name": "stdout",
     "output_type": "stream",
     "text": [
      "Enter the value of a:1\n",
      "Enter the value of b:2\n",
      "Enter the value of c:3\n",
      "-3.0\n"
     ]
    }
   ],
   "source": [
    "#4.\tWrite a Python program to solve quadratic equation?\n",
    "var_a=int(input(\"Enter the value of a:\"))\n",
    "var_b=int(input(\"Enter the value of b:\"))\n",
    "var_c=int(input(\"Enter the value of c:\"))\n",
    "var_x=0\n",
    "d=(var_b**2)-4*(var_a*var_c)#b^2-4ac\n",
    "e=(-1*var_b)#-b\n",
    "f=0.5*d #sqrt(d)\n",
    "var_x=(e+f)/(2*var_a)\n",
    "print(var_x)"
   ]
  },
  {
   "cell_type": "code",
   "execution_count": 18,
   "metadata": {},
   "outputs": [
    {
     "name": "stdout",
     "output_type": "stream",
     "text": [
      "Enter the first value:-309\n",
      "Enter the second value:10\n",
      "The values before swapping is:-309 10 \n",
      "The values after swapping is:10 -309 \n"
     ]
    }
   ],
   "source": [
    "#5.\tWrite a Python program to swap two variables without temp variable?\n",
    "var1=int(input(\"Enter the first value:\"))\n",
    "var2=int(input(\"Enter the second value:\"))\n",
    "print(\"The values before swapping is:{} {} \".format(var1,var2))\n",
    "var1=var1+var2\n",
    "var2=var1-var2\n",
    "var1=var1-var2\n",
    "print(\"The values after swapping is:{} {} \".format(var1,var2))"
   ]
  },
  {
   "cell_type": "code",
   "execution_count": 31,
   "metadata": {},
   "outputs": [
    {
     "data": {
      "text/plain": [
       "8"
      ]
     },
     "execution_count": 31,
     "metadata": {},
     "output_type": "execute_result"
    }
   ],
   "source": [
    "2**3"
   ]
  },
  {
   "cell_type": "code",
   "execution_count": null,
   "metadata": {},
   "outputs": [],
   "source": []
  }
 ],
 "metadata": {
  "kernelspec": {
   "display_name": "Python 3",
   "language": "python",
   "name": "python3"
  },
  "language_info": {
   "codemirror_mode": {
    "name": "ipython",
    "version": 3
   },
   "file_extension": ".py",
   "mimetype": "text/x-python",
   "name": "python",
   "nbconvert_exporter": "python",
   "pygments_lexer": "ipython3",
   "version": "3.8.5"
  }
 },
 "nbformat": 4,
 "nbformat_minor": 4
}
