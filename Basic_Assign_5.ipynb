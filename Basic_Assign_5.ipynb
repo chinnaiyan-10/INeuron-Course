{
 "cells": [
  {
   "cell_type": "code",
   "execution_count": null,
   "metadata": {},
   "outputs": [],
   "source": [
    "#1. What does an empty dictionary's code look like?\n",
    "'''Answer:student_dict={}'''"
   ]
  },
  {
   "cell_type": "code",
   "execution_count": null,
   "metadata": {},
   "outputs": [],
   "source": [
    "#2. What is the value of a dictionary value with the key 'foo' and the value 42?\n",
    "'''Answer:The value of the dictionary is 42.'''"
   ]
  },
  {
   "cell_type": "code",
   "execution_count": null,
   "metadata": {},
   "outputs": [],
   "source": [
    "#3. What is the most significant distinction between a dictionary and a list?\n",
    "'''Answer: A list is an ordered sequence i.e elements in list can be accessed with their index.\n",
    "   The lists are mutable \n",
    "   A dictionary is an unorded collection of elements where it is stored in the form of key value pairs.\n",
    "   The keys of a dictionary are immutable'''"
   ]
  },
  {
   "cell_type": "code",
   "execution_count": null,
   "metadata": {},
   "outputs": [],
   "source": [
    "#4. What happens if you try to access spam['foo'] if spam is {'bar': 100}?\n",
    "'''Answer:IT will result in a error since there is no key called 'foo' inside the spam dictionary'''"
   ]
  },
  {
   "cell_type": "code",
   "execution_count": null,
   "metadata": {},
   "outputs": [],
   "source": [
    "#5. If a dictionary is stored in spam, what is the difference between the expressions 'cat' in spam and 'cat' in spam.keys()?\n",
    "'''Answer:'cat' in spam will check if cat exists in the spam's both keys and values. \n",
    "  'cat' in spam.keys() will check if cat exists in only the keys of the spam'"
   ]
  },
  {
   "cell_type": "code",
   "execution_count": null,
   "metadata": {},
   "outputs": [],
   "source": [
    "#6. If a dictionary is stored in spam, what is the difference between the expressions 'cat' in spam and 'cat' in spam.values()?\n",
    "'''Answer:'cat' in spam will check if cat exists in the spam's both keys and values. \n",
    "  'cat' in spam.values() will check if cat exists in only the values of spam''''''"
   ]
  },
  {
   "cell_type": "code",
   "execution_count": null,
   "metadata": {},
   "outputs": [],
   "source": [
    "#7. What is a shortcut for the following code?\n",
    "''' if 'color' not in spam:\n",
    "        spam['color'] = 'black' \n",
    "        \n",
    "    Answer:spam.setdefault('color',black)'''"
   ]
  },
  {
   "cell_type": "code",
   "execution_count": null,
   "metadata": {},
   "outputs": [],
   "source": [
    "#8. How do you \"pretty print\" dictionary values using which module and function?\n",
    "'''Answer:The dictionary values can be pretty print using the pprint module and the pformat() function'''"
   ]
  }
 ],
 "metadata": {
  "kernelspec": {
   "display_name": "Python 3",
   "language": "python",
   "name": "python3"
  },
  "language_info": {
   "codemirror_mode": {
    "name": "ipython",
    "version": 3
   },
   "file_extension": ".py",
   "mimetype": "text/x-python",
   "name": "python",
   "nbconvert_exporter": "python",
   "pygments_lexer": "ipython3",
   "version": "3.8.5"
  }
 },
 "nbformat": 4,
 "nbformat_minor": 4
}
