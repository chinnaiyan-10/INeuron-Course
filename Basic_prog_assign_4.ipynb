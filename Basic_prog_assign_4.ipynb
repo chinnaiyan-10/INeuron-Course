{
 "cells": [
  {
   "cell_type": "code",
   "execution_count": 4,
   "metadata": {},
   "outputs": [
    {
     "name": "stdout",
     "output_type": "stream",
     "text": [
      "Enter the number to find its factorial: 1\n",
      "The factorial of 1 is 1\n"
     ]
    }
   ],
   "source": [
    "#1.\tWrite a Python Program to Find the Factorial of a Number?\n",
    "#'Answer:'\n",
    "n=int(input(\"Enter the number to find its factorial: \"))\n",
    "fact=1\n",
    "for item in range(1,n+1,1):\n",
    "    fact=fact*item\n",
    "print(\"The factorial of {} is {}\".format(n,fact))"
   ]
  },
  {
   "cell_type": "code",
   "execution_count": 76,
   "metadata": {},
   "outputs": [
    {
     "name": "stdout",
     "output_type": "stream",
     "text": [
      "Enter which number's table to print1\n",
      "Enter the range to print1\n",
      "1*1= 1\n"
     ]
    }
   ],
   "source": [
    "#2.\tWrite a Python Program to Display the multiplication Table?\n",
    "#Answer\n",
    "num=int(input(\"Enter which number's table to print\"))\n",
    "max_range=int(input(\"Enter the range to print\"))\n",
    "i=1#iterator\n",
    "while(i<=max_range):\n",
    "    print('{}*{}='.format(i,num),num*i)\n",
    "    i+=1"
   ]
  },
  {
   "cell_type": "code",
   "execution_count": 27,
   "metadata": {},
   "outputs": [
    {
     "name": "stdout",
     "output_type": "stream",
     "text": [
      "Enter the total nos in the Fibo. sequence:10\n",
      "0 1 1 2 3 5 8 13 21 34 "
     ]
    }
   ],
   "source": [
    "#3.\tWrite a Python Program to Print the Fibonacci sequence?\n",
    "#Answer:\n",
    "max_range=int(input(\"Enter the total nos in the Fibo. sequence:\"))\n",
    "a=0\n",
    "b=1\n",
    "print(a,b,end=\" \")\n",
    "count=0\n",
    "while(count<max_range-2):\n",
    "    result=a+b\n",
    "    print(result,end=\" \")\n",
    "    a=b\n",
    "    b=result\n",
    "    count+=1"
   ]
  },
  {
   "cell_type": "code",
   "execution_count": 67,
   "metadata": {},
   "outputs": [
    {
     "name": "stdout",
     "output_type": "stream",
     "text": [
      "Enter a number to check if its Armstrong number: 9470\n",
      "It is not a Armstrong number!!!\n"
     ]
    }
   ],
   "source": [
    "#4.\tWrite a Python Program to Check Armstrong Number?\n",
    "var_num=int(input(\"Enter a number to check if its Armstrong number: \"))\n",
    "var_num2=var_num3=var_num\n",
    "count=0\n",
    "d=0\n",
    "while(var_num>1):\n",
    "    a=var_num/10\n",
    "    var_num=a\n",
    "    count+=1\n",
    "#print(count)\n",
    "while(var_num2>=1):\n",
    "    b=var_num2%10\n",
    "    c=b**count\n",
    "    d=d+c\n",
    "    e=var_num2//10\n",
    "    var_num2=e\n",
    "#print(d)\n",
    "#print(\"var_num2\",var_num2)\n",
    "if var_num3==d:\n",
    "    print(\"It is an Armstrong number!!\")\n",
    "else:\n",
    "    print(\"It is not a Armstrong number!!!\")"
   ]
  },
  {
   "cell_type": "code",
   "execution_count": null,
   "metadata": {},
   "outputs": [
    {
     "name": "stdout",
     "output_type": "stream",
     "text": [
      "Enter the minimum limit:150\n"
     ]
    }
   ],
   "source": [
    "#5.\tWrite a Python Program to Find Armstrong Number in an Interval?\n",
    "var_min=int(input(\"Enter the minimum limit:\"))\n",
    "var_max=int(input(\"Enter the maximum limit:\"))\n",
    "for item in range(var_min,var_max+1,1):\n",
    "#var_num=int(input(\"Enter a number to check if its Armstrong number: \"))\n",
    "    var_num=var_num2=item\n",
    "    count=0\n",
    "    d=0\n",
    "    while(var_num>1):\n",
    "        a=var_num/10\n",
    "        var_num=a\n",
    "        count+=1\n",
    "    #print(count)\n",
    "    while(var_num2>=1):\n",
    "        b=var_num2%10\n",
    "        c=b**count\n",
    "        d=d+c\n",
    "        e=var_num2//10\n",
    "        var_num2=e\n",
    "    #print(d)\n",
    "    #print(\"var_num2\",var_num2)\n",
    "    if item==d:\n",
    "        print(\"It is an Armstrong number!!\",item)\n",
    "    else:\n",
    "        print(\"It is not a Armstrong number!!!\",item)"
   ]
  },
  {
   "cell_type": "code",
   "execution_count": 11,
   "metadata": {},
   "outputs": [
    {
     "name": "stdout",
     "output_type": "stream",
     "text": [
      "Enter the nth no:20\n",
      "The sum of 20 natural numbers is 210\n"
     ]
    }
   ],
   "source": [
    "#6.\tWrite a Python Program to Find the Sum of Natural Numbers?\n",
    "#Answer\n",
    "max_no=int(input(\"Enter the nth no:\"))\n",
    "sum_of_num=int((max_no*(max_no+1))/2)\n",
    "print(\"The sum of {} natural numbers is {}\".format(max_no,sum_of_num))"
   ]
  }
 ],
 "metadata": {
  "kernelspec": {
   "display_name": "Python 3",
   "language": "python",
   "name": "python3"
  },
  "language_info": {
   "codemirror_mode": {
    "name": "ipython",
    "version": 3
   },
   "file_extension": ".py",
   "mimetype": "text/x-python",
   "name": "python",
   "nbconvert_exporter": "python",
   "pygments_lexer": "ipython3",
   "version": "3.8.5"
  }
 },
 "nbformat": 4,
 "nbformat_minor": 4
}
