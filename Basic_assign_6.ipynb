{
 "cells": [
  {
   "cell_type": "code",
   "execution_count": null,
   "metadata": {},
   "outputs": [],
   "source": [
    "#1. What are escape characters, and how do you use them?\n",
    "'''Answer:Escape charcters are special characters that are used to represent strings \n",
    "   and lines of strings in a particular style or format.The escape characters are precedded by a \\\n",
    "   Example:\\n,\\t etc\n",
    "'''"
   ]
  },
  {
   "cell_type": "code",
   "execution_count": 2,
   "metadata": {
    "scrolled": false
   },
   "outputs": [
    {
     "data": {
      "text/plain": [
       "11"
      ]
     },
     "execution_count": 2,
     "metadata": {},
     "output_type": "execute_result"
    }
   ],
   "source": [
    "#2. What do the escape characters n and t stand for?\n",
    "'''Answer: Escape character n sands for new line and t stands for tab.\n",
    "They are used to insert a new line and tab sapce into a string respectively.'''\n"
   ]
  },
  {
   "cell_type": "code",
   "execution_count": null,
   "metadata": {},
   "outputs": [],
   "source": [
    "#3. What is the way to include backslash characters in a string?\n",
    "'''Answer:The best way to include backslash character is by preceeding it with another back slash \\\n",
    "print(\"hello world\\\\\\ddd\")'''"
   ]
  },
  {
   "cell_type": "code",
   "execution_count": null,
   "metadata": {},
   "outputs": [],
   "source": [
    "#4. The string \"Howl's Moving Castle\" is a correct value. Why isn't the single quote character in the word Howl's not escaped a problem?\n",
    "'''Answer:Since the single quote character is placed inside the pair of double quotes the string was valid.'''"
   ]
  },
  {
   "cell_type": "code",
   "execution_count": null,
   "metadata": {},
   "outputs": [],
   "source": [
    "#5. How do you write a string of newlines if you don't want to use the n character?\n",
    "'''Answer: By using the triple quotes if the text is typed after pressing the enter i.e in a new line the text will get displayed in a newline.'''\n",
    "\n"
   ]
  },
  {
   "cell_type": "code",
   "execution_count": null,
   "metadata": {},
   "outputs": [],
   "source": [
    "#6. What are the values of the given expressions?\n",
    "'''Answer:Hello, world!'[1] e \n",
    "'Hello, world!'[0:5]   Hello\n",
    "'Hello, world!'[:5]   Hello\n",
    "'Hello, world!'[3:]   lo, world! '''\n"
   ]
  },
  {
   "cell_type": "code",
   "execution_count": null,
   "metadata": {},
   "outputs": [],
   "source": [
    "#7. What are the values of the following expressions?\n",
    "'''Answer: Hello'.upper() HELLO\n",
    "'Hello'.upper().isupper() True\n",
    "'Hello'.upper().lower()   hello'''\n"
   ]
  },
  {
   "cell_type": "code",
   "execution_count": null,
   "metadata": {},
   "outputs": [],
   "source": [
    "#8. What are the values of the following expressions?\n",
    "'''Answer: 'Remember, remember, the fifth of July.'.split() ['Remember ','remember','the','fifth','of','July']\n",
    "          '-'.join('There can only one.'.split()) 'There-can-only-one.' '''\n"
   ]
  },
  {
   "cell_type": "code",
   "execution_count": null,
   "metadata": {},
   "outputs": [],
   "source": [
    "#9. What are the methods for right-justifying, left-justifying, and centering a string?\n",
    "'''Answer: rjust(),ljust(),center() are the methods.'''"
   ]
  },
  {
   "cell_type": "code",
   "execution_count": null,
   "metadata": {},
   "outputs": [],
   "source": [
    "#10. What is the best way to remove whitespace characters from the start or end?\n",
    "'''Answer:lstrip() can be used to remove whitespace at the start\n",
    "          rstrip() can be used to remove whitespace at the end'''"
   ]
  }
 ],
 "metadata": {
  "kernelspec": {
   "display_name": "Python 3",
   "language": "python",
   "name": "python3"
  },
  "language_info": {
   "codemirror_mode": {
    "name": "ipython",
    "version": 3
   },
   "file_extension": ".py",
   "mimetype": "text/x-python",
   "name": "python",
   "nbconvert_exporter": "python",
   "pygments_lexer": "ipython3",
   "version": "3.8.5"
  }
 },
 "nbformat": 4,
 "nbformat_minor": 4
}
