{
 "cells": [
  {
   "cell_type": "code",
   "execution_count": 3,
   "metadata": {},
   "outputs": [
    {
     "name": "stdout",
     "output_type": "stream",
     "text": [
      "Enter a  number:55\n",
      "The number is Positive\n"
     ]
    }
   ],
   "source": [
    "#Write a Python Program to Check if a Number is Positive, Negative or Zero?\n",
    "who_number=int(input(\"Enter a  number:\"))\n",
    "if who_number==0:\n",
    "    print(\"The number is zero\")\n",
    "elif who_number<0:\n",
    "    print(\"The number is Negative\")\n",
    "else:\n",
    "    print(\"The number is Positive\")"
   ]
  },
  {
   "cell_type": "code",
   "execution_count": 8,
   "metadata": {},
   "outputs": [
    {
     "name": "stdout",
     "output_type": "stream",
     "text": [
      "Enter a number to check:97\n",
      "Odd number\n"
     ]
    }
   ],
   "source": [
    "#2.\tWrite a Python Program to Check if a Number is Odd or Even?\n",
    "num1=int(input(\"Enter a number to check:\"))\n",
    "if num1==0:\n",
    "    print(\"Zero is a whole number\")\n",
    "elif num1%2==0:\n",
    "    print(\"Even Number\")\n",
    "elif num1%2!=0:\n",
    "    print(\"Odd number\")"
   ]
  },
  {
   "cell_type": "code",
   "execution_count": 11,
   "metadata": {},
   "outputs": [
    {
     "name": "stdout",
     "output_type": "stream",
     "text": [
      "Enter the year:2016\n",
      "The year is a leap year\n"
     ]
    }
   ],
   "source": [
    "#Write a Python Program to Check Leap Year?\n",
    "year=int(input(\"Enter the year:\"))\n",
    "if year%4==0:\n",
    "    print(\"The year is a leap year\")\n",
    "else:\n",
    "    print(\"It is not a leap year\")"
   ]
  },
  {
   "cell_type": "code",
   "execution_count": 8,
   "metadata": {},
   "outputs": [
    {
     "name": "stdout",
     "output_type": "stream",
     "text": [
      "Enter a number:7\n",
      "It is a Prime number\n"
     ]
    }
   ],
   "source": [
    "#Write a Python Program to Check Prime Number?\n",
    "pri_no=int(input(\"Enter a number:\"))\n",
    "if pri_no==2:\n",
    "    print(\"2 is only even prime number\")\n",
    "for item in range(2,pri_no,1):\n",
    "    if pri_no%item==0:\n",
    "        print(\"Not a Prime number\")\n",
    "        break\n",
    "    else:\n",
    "        print(\"It is a Prime number\")\n",
    "        break"
   ]
  },
  {
   "cell_type": "code",
   "execution_count": 11,
   "metadata": {},
   "outputs": [
    {
     "name": "stdout",
     "output_type": "stream",
     "text": [
      "Enter the min element:1\n",
      "Enter the max element5\n",
      "1\n",
      "2\n",
      "3\n"
     ]
    }
   ],
   "source": [
    "#Write a Python Program to Print all Prime Numbers in an Interval of 1-10000?\n",
    "num1=int(input(\"Enter the min element:\"))\n",
    "num2=int(input(\"Enter the max element\"))\n",
    "flag=0\n",
    "for item in range(num1,num2,1):\n",
    "    flag=0\n",
    "    for j in range(2,item,1):\n",
    "        if(item%j==0):\n",
    "            flag=1\n",
    "            #print(\"Not prime\",item)\n",
    "            break\n",
    "    if(flag==0):\n",
    "        print(item)"
   ]
  },
  {
   "cell_type": "code",
   "execution_count": null,
   "metadata": {},
   "outputs": [],
   "source": []
  }
 ],
 "metadata": {
  "kernelspec": {
   "display_name": "Python 3",
   "language": "python",
   "name": "python3"
  },
  "language_info": {
   "codemirror_mode": {
    "name": "ipython",
    "version": 3
   },
   "file_extension": ".py",
   "mimetype": "text/x-python",
   "name": "python",
   "nbconvert_exporter": "python",
   "pygments_lexer": "ipython3",
   "version": "3.8.5"
  }
 },
 "nbformat": 4,
 "nbformat_minor": 4
}
