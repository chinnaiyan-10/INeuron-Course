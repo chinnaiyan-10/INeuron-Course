{
 "cells": [
  {
   "cell_type": "code",
   "execution_count": null,
   "metadata": {},
   "outputs": [],
   "source": [
    "#Why are functions advantageous to have in your programs?\n",
    "'''Answer:1.Functions contanins blocks of code that get executed when called.\n",
    "       2.Functions can be definded once and called whenever needed in our program or module\n",
    "       3.Since function provides code reusablity,they can reduce the number of lines in our code\n",
    "       4.Functions imrprove code readablity.'''"
   ]
  },
  {
   "cell_type": "code",
   "execution_count": null,
   "metadata": {},
   "outputs": [],
   "source": [
    "#2. When does the code in a function run: when it's specified or when it's called?\n",
    "'''Answer:The code in a function runs when it is called in a program'''"
   ]
  },
  {
   "cell_type": "code",
   "execution_count": null,
   "metadata": {},
   "outputs": [],
   "source": [
    "#3. What statement creates a function?\n",
    "'''Answer:The def keyword is used to create a function\n",
    "   Example: def my_func():\n",
    "               print(\"Hello World\")'''"
   ]
  },
  {
   "cell_type": "code",
   "execution_count": null,
   "metadata": {},
   "outputs": [],
   "source": [
    "#4. What is the difference between a function and a function call?\n",
    "'''Answer:A function is used to encapsulate a particular functionality into a block of code and can be used later in our program\n",
    "          A function call is the statement in the code when the user defined function is called.A function was called by using its name\n",
    "          Example:Function:def my_func():\n",
    "                             print(\"Hello World\")\n",
    "                  Function Call:my_func()'''"
   ]
  },
  {
   "cell_type": "code",
   "execution_count": null,
   "metadata": {},
   "outputs": [],
   "source": [
    "#5. How many global scopes are there in a Python program? How many local scopes?\n",
    "'''Answer:Only one global scope.\n",
    "          There is two local scopes i.e scope inside the function and parent function's local if it is nested'''"
   ]
  },
  {
   "cell_type": "code",
   "execution_count": null,
   "metadata": {},
   "outputs": [],
   "source": [
    "#6. What happens to variables in a local scope when the function call returns?\n",
    "'''Answer:The variables in a local scope of function can hold the values until the function is executing.\n",
    "   Once the function execution is over they will get reinitialized.'''"
   ]
  },
  {
   "cell_type": "code",
   "execution_count": null,
   "metadata": {},
   "outputs": [],
   "source": [
    "#7. What is the concept of a return value? Is it possible to have a return value in an expression?\n",
    "'''Answer:A return value is used to identify/output a function's result or the result of execution of a function.\n",
    "It is possible to have an expression as return value.\n",
    "A function sholud either print the reulst or return the resukt of execution\n",
    "\n",
    "Example: def demo_add(num1,num2):\n",
    "           return(num1+num2)'''"
   ]
  },
  {
   "cell_type": "code",
   "execution_count": null,
   "metadata": {},
   "outputs": [],
   "source": [
    "#8. If a function does not have a return statement, what is the return value of a call to that function?\n",
    "'''Answer:IF a function does not have a return statement the return value of the call is None'''"
   ]
  },
  {
   "cell_type": "code",
   "execution_count": null,
   "metadata": {},
   "outputs": [],
   "source": [
    "#9. How do you make a function variable refer to the global variable?\n",
    "'''Answer:A global variable can be refered from inside the function using the global keyword in python.'''"
   ]
  },
  {
   "cell_type": "code",
   "execution_count": null,
   "metadata": {},
   "outputs": [],
   "source": [
    "#10. What is the data type of None?\n",
    "'''Answer:The data type of None is null or empty.It does not hold any value.It belongs to the class Nonetype'''"
   ]
  },
  {
   "cell_type": "code",
   "execution_count": null,
   "metadata": {},
   "outputs": [],
   "source": [
    "#11. What does the sentence import areallyourpetsnamederic do?\n",
    "'''Answer:It is used to import if the module named areallyourpetsnamederic into the program.\n",
    "   It is valid only if there is a module is already defined or existing in program.'''"
   ]
  },
  {
   "cell_type": "code",
   "execution_count": null,
   "metadata": {},
   "outputs": [],
   "source": [
    "#12. If you had a bacon() feature in a spam module, what would you call it after importing spam?\n",
    "'''Answer:import spam\n",
    "          from spam import bacon'''"
   ]
  },
  {
   "cell_type": "code",
   "execution_count": null,
   "metadata": {},
   "outputs": [],
   "source": [
    "#13. What can you do to save a programme from crashing if it encounters an error?\n",
    "'''Answer:Exception handling can be used to save a program from crashing.\n",
    "IT also prevents the program from causing unexpected results or serious errors'''"
   ]
  },
  {
   "cell_type": "code",
   "execution_count": null,
   "metadata": {},
   "outputs": [],
   "source": [
    "#14. What is the purpose of the try clause? What is the purpose of the except clause?\n",
    "'''Answer:Try clause is used to check the particular block of code for any unexpected conditions or errors.\n",
    "   Except clause is used to tell the program what to do what when there is an exception'''"
   ]
  }
 ],
 "metadata": {
  "kernelspec": {
   "display_name": "Python 3",
   "language": "python",
   "name": "python3"
  },
  "language_info": {
   "codemirror_mode": {
    "name": "ipython",
    "version": 3
   },
   "file_extension": ".py",
   "mimetype": "text/x-python",
   "name": "python",
   "nbconvert_exporter": "python",
   "pygments_lexer": "ipython3",
   "version": "3.8.5"
  }
 },
 "nbformat": 4,
 "nbformat_minor": 4
}
